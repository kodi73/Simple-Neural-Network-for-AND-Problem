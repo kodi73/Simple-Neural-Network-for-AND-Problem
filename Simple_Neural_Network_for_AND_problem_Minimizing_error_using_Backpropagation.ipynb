{
  "nbformat": 4,
  "nbformat_minor": 0,
  "metadata": {
    "colab": {
      "provenance": [],
      "authorship_tag": "ABX9TyPIC1evEOjcYCrXqabH016l",
      "include_colab_link": true
    },
    "kernelspec": {
      "name": "python3",
      "display_name": "Python 3"
    },
    "language_info": {
      "name": "python"
    }
  },
  "cells": [
    {
      "cell_type": "markdown",
      "metadata": {
        "id": "view-in-github",
        "colab_type": "text"
      },
      "source": [
        "<a href=\"https://colab.research.google.com/github/kodi73/Simple-Neural-Network-for-AND-Problem/blob/main/Simple_Neural_Network_for_AND_problem_Minimizing_error_using_Backpropagation.ipynb\" target=\"_parent\"><img src=\"https://colab.research.google.com/assets/colab-badge.svg\" alt=\"Open In Colab\"/></a>"
      ]
    },
    {
      "cell_type": "code",
      "source": [
        "import numpy as np\n",
        "import matplotlib.pyplot as plt"
      ],
      "metadata": {
        "id": "isO0v4E0oNFf"
      },
      "execution_count": 9,
      "outputs": []
    },
    {
      "cell_type": "markdown",
      "source": [
        "Input array and the expected output."
      ],
      "metadata": {
        "id": "VE1I1yxhnvzH"
      }
    },
    {
      "cell_type": "code",
      "execution_count": 10,
      "metadata": {
        "id": "-uoA-oQ1nV0i"
      },
      "outputs": [],
      "source": [
        "X = np.array([[0, 0], [0, 1], [1, 0], [1, 1]]).T\n",
        "d = np.array([0, 0, 0, 1])"
      ]
    },
    {
      "cell_type": "code",
      "source": [
        "def initialize_network_parameters():\n",
        "  inputSize = 2\n",
        "  hiddenSize = 2\n",
        "  outputSize = 1\n",
        "\n",
        "  lr = 0.1\n",
        "  epochs = 180000\n",
        "\n",
        "  w1 = np.random.rand(hiddenSize, inputSize) * 2 - 1\n",
        "  w2 = np.random.rand(outputSize, hiddenSize) * 2 - 1\n",
        "  b1 = np.random.rand(hiddenSize, 1) * 2 - 1\n",
        "  b2 = np.random.rand(outputSize, 1) * 2 - 1\n",
        "\n",
        "  return w1, w2, b1, b2, lr, epochs"
      ],
      "metadata": {
        "id": "Ow_SAzrVn2wN"
      },
      "execution_count": 11,
      "outputs": []
    },
    {
      "cell_type": "markdown",
      "source": [
        "Training the Neural Network"
      ],
      "metadata": {
        "id": "6JmW-gU8vjFN"
      }
    },
    {
      "cell_type": "code",
      "source": [
        "w1, w2, b1, b2, lr, epochs = initialize_network_parameters()\n",
        "\n",
        "error_list = []\n",
        "\n",
        "for epoch in range(epochs):\n",
        "  z1 = np.dot(w1, X) + b1\n",
        "  a1 = 1.0 / (1.0 + np.exp(-z1))\n",
        "\n",
        "  z2 = np.dot(w2, a1) + b2\n",
        "  a2 = 1.0 / (1.0 + np.exp(-z2))\n",
        "\n",
        "  error = d - a2\n",
        "\n",
        "  da2 = error * (a2 * (1 - a2))\n",
        "  dz2 = da2\n",
        "\n",
        "  da1 = np.dot(w2.T, dz2)\n",
        "  dz1 = da1 * (a1 * (1 - a1))\n",
        "\n",
        "  w2 += lr * np.dot(dz2, a1.T)\n",
        "  b2 += lr * np.sum(dz2, axis=1, keepdims=True)\n",
        "\n",
        "  w1 += lr * np.dot(dz1, X.T)\n",
        "  b1 += lr * np.sum(dz1, axis=1, keepdims=True)\n",
        "\n",
        "  if (epoch + 1) % 10000 == 0:\n",
        "    print(f\"Epoch {epoch}, Error: {np.mean(np.abs(error))}\")\n",
        "    error_list.append(np.mean(np.abs(error)))"
      ],
      "metadata": {
        "colab": {
          "base_uri": "https://localhost:8080/"
        },
        "id": "PlW-s65vtHO6",
        "outputId": "eef6922a-7fd1-480c-d60d-2564e058ddde"
      },
      "execution_count": 12,
      "outputs": [
        {
          "output_type": "stream",
          "name": "stdout",
          "text": [
            "Epoch 9999, Error: 0.02433611286018481\n",
            "Epoch 19999, Error: 0.015115197601064792\n",
            "Epoch 29999, Error: 0.01168977163773606\n",
            "Epoch 39999, Error: 0.009810121625057715\n",
            "Epoch 49999, Error: 0.00859087055710828\n",
            "Epoch 59999, Error: 0.007721948710902355\n",
            "Epoch 69999, Error: 0.007064074665264442\n",
            "Epoch 79999, Error: 0.0065445195697140975\n",
            "Epoch 89999, Error: 0.006121232925523546\n",
            "Epoch 99999, Error: 0.005768037877956447\n",
            "Epoch 109999, Error: 0.005467698115221879\n",
            "Epoch 119999, Error: 0.005208351845799569\n",
            "Epoch 129999, Error: 0.0049815394784480695\n",
            "Epoch 139999, Error: 0.004781047589219207\n",
            "Epoch 149999, Error: 0.00460219837644543\n",
            "Epoch 159999, Error: 0.004441395272025155\n",
            "Epoch 169999, Error: 0.0042958224330338956\n",
            "Epoch 179999, Error: 0.004163240182199762\n"
          ]
        }
      ]
    },
    {
      "cell_type": "markdown",
      "source": [
        "Testing the Neural Network"
      ],
      "metadata": {
        "id": "lfR98GZ0vmOb"
      }
    },
    {
      "cell_type": "code",
      "source": [
        "z1 = np.dot(w1, X) + b1\n",
        "a1 = 1.0 / (1.0 + np.exp(-z1))\n",
        "\n",
        "z2 = np.dot(w2, a1) + b2\n",
        "a2 = 1.0 / (1.0 + np.exp(-z2))\n",
        "\n",
        "print(f\"Final Output After Training: {a2}\")\n",
        "print(f\"Ground truth: {d}\")\n",
        "print(f\"Error: {error}\")\n",
        "print(f\"Average Error: {np.mean(np.abs(error))}\")"
      ],
      "metadata": {
        "colab": {
          "base_uri": "https://localhost:8080/"
        },
        "id": "Pwh-V8MjvSUc",
        "outputId": "4dff517f-a198-4873-fbc7-d1d31410130f"
      },
      "execution_count": 13,
      "outputs": [
        {
          "output_type": "stream",
          "name": "stdout",
          "text": [
            "Final Output After Training: [[2.76880437e-04 4.65690303e-03 5.00564052e-03 9.93286514e-01]]\n",
            "Ground truth: [0 0 0 1]\n",
            "Error: [[-0.00027688 -0.00465692 -0.00500566  0.00671351]]\n",
            "Average Error: 0.004163240182199762\n"
          ]
        }
      ]
    },
    {
      "cell_type": "code",
      "source": [
        "plt.plot(error_list)\n",
        "plt.title('Error')\n",
        "plt.xlabel('Epochs')\n",
        "plt.ylabel('Error')\n",
        "plt.show()"
      ],
      "metadata": {
        "colab": {
          "base_uri": "https://localhost:8080/",
          "height": 472
        },
        "id": "1H-wnH2uwQnJ",
        "outputId": "d6fe08bd-9bcf-47b3-e446-c09b2406b922"
      },
      "execution_count": 14,
      "outputs": [
        {
          "output_type": "display_data",
          "data": {
            "text/plain": [
              "<Figure size 640x480 with 1 Axes>"
            ],
            "image/png": "[encoded data removed]"
          },
          "metadata": {}
        }
      ]
    },
    {
      "cell_type": "code",
      "source": [],
      "metadata": {
        "id": "TXMg0LH4xFVi"
      },
      "execution_count": null,
      "outputs": []
    }
  ]
}